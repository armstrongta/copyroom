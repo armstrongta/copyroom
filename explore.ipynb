{
 "cells": [
  {
   "cell_type": "code",
   "execution_count": 1,
   "metadata": {},
   "outputs": [],
   "source": [
    "from shiny import App, render, ui, reactive\n",
    "import pandas as pd\n",
    "# import faicons\n",
    "\n",
    "\n",
    "excel_file = pd.ExcelFile(\"stock.xlsx\")\n",
    "\n",
    "df_inv = pd.read_excel(excel_file, sheet_name=\"inventory\")\n",
    "df_check = pd.read_excel(excel_file, sheet_name=\"checkouts\")\n",
    "person_dict = pd.read_excel(excel_file, sheet_name=\"person_dict\")\n",
    "dept_dict = pd.read_excel(excel_file, sheet_name=\"dept_dict\")\n",
    "\n",
    "person_list = person_dict[\"full_name\"].unique().tolist()\n",
    "\n",
    "item_dict = df_inv.set_index(\"item_id\")[\"item_name\"].to_dict()\n",
    "item_list = df_inv[\"item_name\"].unique().tolist()\n",
    "\n",
    "nested_dict = {}\n",
    "for _, row in dept_dict.iterrows():\n",
    "    dept = row[\"department\"]\n",
    "    account = row[\"account\"]\n",
    "    number = row[\"number\"]\n",
    "\n",
    "    if dept not in nested_dict:\n",
    "        nested_dict[dept] = {}  # Initialize dictionary for the department\n",
    "\n",
    "    nested_dict[dept][account] = number\n"
   ]
  },
  {
   "cell_type": "code",
   "execution_count": 2,
   "metadata": {},
   "outputs": [
    {
     "data": {
      "text/html": [
       "<div>\n",
       "<style scoped>\n",
       "    .dataframe tbody tr th:only-of-type {\n",
       "        vertical-align: middle;\n",
       "    }\n",
       "\n",
       "    .dataframe tbody tr th {\n",
       "        vertical-align: top;\n",
       "    }\n",
       "\n",
       "    .dataframe thead th {\n",
       "        text-align: right;\n",
       "    }\n",
       "</style>\n",
       "<table border=\"1\" class=\"dataframe\">\n",
       "  <thead>\n",
       "    <tr style=\"text-align: right;\">\n",
       "      <th></th>\n",
       "      <th>department</th>\n",
       "      <th>account</th>\n",
       "      <th>number</th>\n",
       "    </tr>\n",
       "  </thead>\n",
       "  <tbody>\n",
       "    <tr>\n",
       "      <th>0</th>\n",
       "      <td>PE</td>\n",
       "      <td>Dance</td>\n",
       "      <td>2386</td>\n",
       "    </tr>\n",
       "    <tr>\n",
       "      <th>1</th>\n",
       "      <td>PE</td>\n",
       "      <td>PE</td>\n",
       "      <td>2518</td>\n",
       "    </tr>\n",
       "    <tr>\n",
       "      <th>2</th>\n",
       "      <td>PE</td>\n",
       "      <td>conditioning, PE,dance</td>\n",
       "      <td>2383</td>\n",
       "    </tr>\n",
       "    <tr>\n",
       "      <th>3</th>\n",
       "      <td>Math</td>\n",
       "      <td>Math</td>\n",
       "      <td>2485</td>\n",
       "    </tr>\n",
       "    <tr>\n",
       "      <th>4</th>\n",
       "      <td>Math</td>\n",
       "      <td>AP Calc,Math</td>\n",
       "      <td>5096</td>\n",
       "    </tr>\n",
       "  </tbody>\n",
       "</table>\n",
       "</div>"
      ],
      "text/plain": [
       "  department                 account  number\n",
       "0         PE                   Dance    2386\n",
       "1         PE                      PE    2518\n",
       "2         PE  conditioning, PE,dance    2383\n",
       "3       Math                    Math    2485\n",
       "4       Math            AP Calc,Math    5096"
      ]
     },
     "execution_count": 2,
     "metadata": {},
     "output_type": "execute_result"
    }
   ],
   "source": [
    "dept_dict.head()"
   ]
  },
  {
   "cell_type": "code",
   "execution_count": 4,
   "metadata": {},
   "outputs": [
    {
     "data": {
      "text/plain": [
       "5096"
      ]
     },
     "execution_count": 4,
     "metadata": {},
     "output_type": "execute_result"
    }
   ],
   "source": [
    "nested_dict[\"Math\"][\"AP Calc\"]"
   ]
  },
  {
   "cell_type": "code",
   "execution_count": 10,
   "metadata": {},
   "outputs": [],
   "source": []
  },
  {
   "cell_type": "code",
   "execution_count": null,
   "metadata": {},
   "outputs": [],
   "source": []
  },
  {
   "cell_type": "code",
   "execution_count": null,
   "metadata": {},
   "outputs": [],
   "source": []
  }
 ],
 "metadata": {
  "kernelspec": {
   "display_name": "Python 3",
   "language": "python",
   "name": "python3"
  },
  "language_info": {
   "codemirror_mode": {
    "name": "ipython",
    "version": 3
   },
   "file_extension": ".py",
   "mimetype": "text/x-python",
   "name": "python",
   "nbconvert_exporter": "python",
   "pygments_lexer": "ipython3",
   "version": "3.11.9"
  }
 },
 "nbformat": 4,
 "nbformat_minor": 2
}
