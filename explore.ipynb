{
 "cells": [
  {
   "cell_type": "code",
   "execution_count": 2,
   "metadata": {},
   "outputs": [],
   "source": [
    "from shiny import App, render, ui, reactive\n",
    "import pandas as pd\n",
    "# import faicons\n",
    "\n",
    "#* From here to dtype_dict is a dataload, copied in explore.ipynb, app.py, myfunctions.py\n",
    "# Note: I would have create a data_prep function, but here would have been 20 returned values\n",
    "excel_file = pd.ExcelFile(\"stock.xlsx\")\n",
    "\n",
    "# The Excel Sheets loaded in\n",
    "df_inv = pd.read_excel(excel_file, sheet_name=\"inventory\")\n",
    "df_check_init = pd.read_excel(excel_file, sheet_name=\"checkouts\")\n",
    "person_dict = pd.read_excel(excel_file, sheet_name=\"person_dict\")\n",
    "dept_dict = pd.read_excel(excel_file, sheet_name=\"dept_dict\")\n",
    "df_copies = pd.read_excel(excel_file, sheet_name=\"copies_dict\")\n",
    "# Grab details specific to the school:\n",
    "df_school = pd.read_excel(excel_file, sheet_name=\"school\")\n",
    "school_name = df_school[\"School Name\"].iloc[0]\n",
    "background_link = df_school[\"background_link\"].iloc[0]\n",
    "buffer_amount = df_school[\"buffer_amount\"].iloc[0]\n",
    "copy_person = df_school[\"users_name\"].iloc[0]\n",
    "\n",
    "person_list = person_dict[\"full_name\"].unique().tolist()\n",
    "\n",
    "item_dict = df_inv.set_index(\"item_id\")[[\"item_name\", \"price\"]].to_dict(orient=\"index\")\n",
    "inverted_dict = df_inv.set_index(\"item_name\")[\"item_id\"].to_dict()\n",
    "item_list = df_inv[\"item_name\"].unique().tolist()\n",
    "\n",
    "# Info Needed for the Copies Tab\n",
    "add_on_df = df_copies[df_copies[\"type\"] == \"add-on\"]\n",
    "add_on_dict = add_on_df.set_index(\"item_id\")[\"classification\"].to_dict()\n",
    "single_df = df_copies[df_copies[\"type\"] == \"single\"]\n",
    "single_dict = single_df.set_index(\"item_id\")[\"classification\"].to_dict()\n",
    "copies_price = df_copies[[\"item_id\", \"type\", \"price_per_sheet\", \"classification\"]]\n",
    "\n",
    "# Creating the Dict to tie accounts to People\n",
    "nested_dict = {}\n",
    "for _, row in dept_dict.iterrows():\n",
    "    dept = row[\"department\"]\n",
    "    account = row[\"account\"]\n",
    "    number = row[\"number\"]\n",
    "\n",
    "    if dept not in nested_dict:\n",
    "        nested_dict[dept] = {}  # Initialize dictionary for the department\n",
    "\n",
    "    nested_dict[dept][account] = number\n",
    "\n",
    "acct_options = [] \n",
    "acct_options_copies = []\n",
    "  \n",
    "dtype_dict = { \"item_name\": \"object\", \"quantity\": \"int64\", \"cost\": \"float64\",\"memo\": \"object\", \"date\": \"object\", \"item_id\": \"int64\", \"full_name\": \"object\",}\n",
    "  "
   ]
  },
  {
   "cell_type": "code",
   "execution_count": null,
   "metadata": {},
   "outputs": [],
   "source": []
  },
  {
   "cell_type": "code",
   "execution_count": null,
   "metadata": {},
   "outputs": [],
   "source": []
  },
  {
   "cell_type": "code",
   "execution_count": 2,
   "metadata": {},
   "outputs": [],
   "source": [
    "host = \"copyroom-checkouts.crmas4440wll.us-west-2.rds.amazonaws.com\"\n",
    "db_user = \"admin\"\n",
    "db_password = \"Meaning402$$\"\n",
    "database = \"checkouts\"\n",
    "port = 3306\n",
    "\n",
    "\n",
    "import pymysql\n",
    "\n",
    "db = pymysql.connect(\n",
    "    host=\"copyroom-checkouts.crmas4440wll.us-west-2.rds.amazonaws.com\",\n",
    "    user=db_user,\n",
    "    password=db_password,\n",
    "    database=database,\n",
    "    port = port\n",
    "\n",
    ")"
   ]
  },
  {
   "cell_type": "code",
   "execution_count": null,
   "metadata": {},
   "outputs": [],
   "source": []
  }
 ],
 "metadata": {
  "kernelspec": {
   "display_name": "Python 3",
   "language": "python",
   "name": "python3"
  },
  "language_info": {
   "codemirror_mode": {
    "name": "ipython",
    "version": 3
   },
   "file_extension": ".py",
   "mimetype": "text/x-python",
   "name": "python",
   "nbconvert_exporter": "python",
   "pygments_lexer": "ipython3",
   "version": "3.11.9"
  }
 },
 "nbformat": 4,
 "nbformat_minor": 2
}
